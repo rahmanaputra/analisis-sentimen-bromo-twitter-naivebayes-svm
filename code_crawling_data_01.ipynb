{
  "cells": [
    {
      "cell_type": "code",
      "execution_count": null,
      "metadata": {
        "id": "f11gnCkVMy7s"
      },
      "outputs": [],
      "source": [
        "!pip install pandas\n",
        "!curl -sL https://deb.nodesource.com/setup_18.x | sudo -E bash -\n",
        "!sudo apt-get install -y nodejs"
      ]
    },
    {
      "cell_type": "code",
      "execution_count": null,
      "metadata": {
        "id": "KLVJlQjdNOMs"
      },
      "outputs": [],
      "source": [
        "# Crawl Data\n",
        "#note: lengkapi xxxx dengan yang diinginkan\n",
        "\n",
        "filename = 'xxxx.csv'\n",
        "search_keyword = 'xxxx lang:en OR lang:id until:yyyy-mm-dd since:yyyy-mm-dd'\n",
        "limit = 1000\n",
        "\n",
        "!npx --yes tweet-harvest@latest -o \"{filename}\" -s \"{search_keyword}\" -l {limit} --token \"xxxxxxx\"  #isi dengan auth token akun twitter anda"
      ]
    },
    {
      "cell_type": "code",
      "source": [
        "import pandas as pd\n",
        "\n",
        "file_path = f\"tweets-data/{filename}\"\n",
        "df = pd.read_csv(file_path, delimiter=\";\")\n",
        "\n",
        "usernames_to_filter = ['xxxxx'] #sesuaikan dengan username yang akan diambil\n",
        "filtered_df = df[df['username'].isin(usernames_to_filter)]\n",
        "df_subset = filtered_df[['full_text', 'id_str', 'created_at', 'username', 'user_id_str', 'quote_count', 'reply_count', 'retweet_count', 'favorite_count', 'tweet_url']]\n",
        "df_subset.rename(columns={'full_text': 'Tweets', 'id_str': 'id tweets', 'created_at': 'date tweets', 'username': 'username', 'user_id_str': 'id user', 'quote_count': 'quote count', 'reply_count': 'reply count', 'retweet_count': 'retweet count', 'favorite_count': 'favorite count', 'tweet_url': 'url tweets'}, inplace=True)\n",
        "df_subset['date tweets'] = pd.to_datetime(df_subset['date tweets'])\n",
        "df_subset.sort_values(by='date tweets', ascending=True, inplace=True)\n",
        "\n",
        "df_subset.to_csv('xxxxx.csv', index=False)\n",
        "\n",
        "df_subset"
      ],
      "metadata": {
        "id": "El5JXGMPSWYt"
      },
      "execution_count": null,
      "outputs": []
    },
    {
      "cell_type": "code",
      "source": [],
      "metadata": {
        "id": "HyumQmqaSdLx"
      },
      "execution_count": null,
      "outputs": []
    }
  ],
  "metadata": {
    "colab": {
      "provenance": []
    },
    "kernelspec": {
      "display_name": "Python 3",
      "name": "python3"
    },
    "language_info": {
      "name": "python"
    }
  },
  "nbformat": 4,
  "nbformat_minor": 0
}